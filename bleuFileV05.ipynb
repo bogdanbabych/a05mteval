{
  "nbformat": 4,
  "nbformat_minor": 0,
  "metadata": {
    "colab": {
      "provenance": [],
      "include_colab_link": true
    },
    "kernelspec": {
      "name": "python3",
      "display_name": "Python 3"
    }
  },
  "cells": [
    {
      "cell_type": "markdown",
      "metadata": {
        "id": "view-in-github",
        "colab_type": "text"
      },
      "source": [
        "<a href=\"https://colab.research.google.com/github/bogdanbabych/a05mteval/blob/main/bleuFileV05.ipynb\" target=\"_parent\"><img src=\"https://colab.research.google.com/assets/colab-badge.svg\" alt=\"Open In Colab\"/></a>"
      ]
    },
    {
      "metadata": {
        "id": "cEvHsd4OnnO2"
      },
      "cell_type": "markdown",
      "source": [
        "## BLEU: BiLingual Evaluation Understudy\n",
        "\n",
        "*NLP evaluation metric used in Machine Translation tasks*\n",
        "\n",
        "*Suitable for measuring corpus level similarity*\n",
        "\n",
        "*$n$-gram comparison between words in candidate sentence and reference sentences*\n",
        "\n",
        "*Range: 0 (no match) to 1 (exact match)*"
      ]
    },
    {
      "metadata": {
        "id": "_arqa6LRnzCL"
      },
      "cell_type": "markdown",
      "source": [
        "### 1. Libraries\n",
        "*Install and import necessary libraries*\n"
      ]
    },
    {
      "metadata": {
        "id": "xFOnk5JdnuYQ",
        "outputId": "c2e53d9e-5ba2-47a3-f86e-6c26e7ecc77f",
        "colab": {
          "base_uri": "https://localhost:8080/"
        }
      },
      "cell_type": "code",
      "source": [
        "import nltk\n",
        "import nltk.translate.bleu_score as bleu\n",
        "\n",
        "import math\n",
        "import numpy\n",
        "import os\n",
        "\n",
        "try:\n",
        "  nltk.data.find('tokenizers/punkt')\n",
        "except LookupError:\n",
        "  nltk.download('punkt')"
      ],
      "execution_count": 2,
      "outputs": [
        {
          "output_type": "stream",
          "name": "stderr",
          "text": [
            "[nltk_data] Downloading package punkt to /root/nltk_data...\n",
            "[nltk_data]   Unzipping tokenizers/punkt.zip.\n"
          ]
        }
      ]
    },
    {
      "metadata": {
        "id": "SVkfsYSZq_zn"
      },
      "cell_type": "markdown",
      "source": [
        "### 2. Dataset\n",
        "*Array of words: candidate and reference sentences split into words*"
      ]
    },
    {
      "metadata": {
        "id": "Dr9v92X0r9VM"
      },
      "cell_type": "code",
      "source": [
        "hyp1 = str('The fat cat was comfortably sitting on a big mat').split()\n",
        "hyp2 = str('The fat cat was comfortably sitting on a big rug').split()\n",
        "hyp3 = str('The clever cat was comfortably sitting on a small pillow').split()\n",
        "hyp4 = str('The big dog was comfortably sitting on a small mat').split()\n",
        "\n",
        "\n",
        "ref_a = str('The fat cat was comfortably sitting on a big rug').split()\n",
        "ref_b = str('The plump cat lounged cozily on a large mat').split()\n",
        "ref_c = str('A chubby feline was resting peacefully atop a spacious rug').split()\n",
        "ref_d = str('The hefty cat relaxed contentedly on a broad mat').split()\n"
      ],
      "execution_count": null,
      "outputs": []
    },
    {
      "metadata": {
        "id": "PQYjMHOgsyfT"
      },
      "cell_type": "markdown",
      "source": [
        "### 3. *Sentence* score calculation\n",
        "*Compares 1 hypothesis (candidate or source sentence) with 1+ reference sentences, returning the highest score when compared to multiple reference sentences.*"
      ]
    },
    {
      "metadata": {
        "id": "jXGCD-pi-jt5"
      },
      "cell_type": "code",
      "source": [
        "score_ref_a = bleu.sentence_bleu([ref_a], hyp1)\n",
        "print(\"Hyp1 and ref_a : {}\".format(score_ref_a))\n",
        "\n"
      ],
      "execution_count": null,
      "outputs": []
    },
    {
      "cell_type": "code",
      "source": [
        "score_ref_b = bleu.sentence_bleu([ref_a], hyp2)\n",
        "print(\"Hyp and ref_b : {}\".format(score_ref_b))\n"
      ],
      "metadata": {
        "id": "C9idCpFTXll2"
      },
      "execution_count": null,
      "outputs": []
    },
    {
      "cell_type": "code",
      "source": [
        "score_ref_b = bleu.sentence_bleu([ref_a], hyp3)\n",
        "print(\"Hyp and ref_b : {}\".format(score_ref_b))"
      ],
      "metadata": {
        "id": "JEMCSNlJYJMi"
      },
      "execution_count": null,
      "outputs": []
    },
    {
      "cell_type": "code",
      "source": [
        "score_ref_b = bleu.sentence_bleu([ref_a], hyp4)\n",
        "print(\"Hyp and ref_b : {}\".format(score_ref_b))"
      ],
      "metadata": {
        "id": "6G-sPNZZYMvF"
      },
      "execution_count": null,
      "outputs": []
    },
    {
      "cell_type": "code",
      "source": [
        "score_ref_ab = bleu.sentence_bleu([ref_a, ref_b, ref_c, ref_d], hyp4)\n",
        "print(\"Hyp vs multiple refs: {}\".format(score_ref_ab))"
      ],
      "metadata": {
        "id": "WDxOtbx_YSWt"
      },
      "execution_count": null,
      "outputs": []
    },
    {
      "cell_type": "code",
      "source": [
        "hyp1"
      ],
      "metadata": {
        "colab": {
          "base_uri": "https://localhost:8080/"
        },
        "id": "ofkOXAnr5Y4c",
        "outputId": "db21852f-ddeb-40ad-88db-6aa7cb53de74"
      },
      "execution_count": null,
      "outputs": [
        {
          "output_type": "execute_result",
          "data": {
            "text/plain": [
              "['The', 'fat', 'cat', 'was', 'comfortably', 'sitting', 'on', 'a', 'big', 'mat']"
            ]
          },
          "metadata": {},
          "execution_count": 17
        }
      ]
    },
    {
      "cell_type": "markdown",
      "source": [
        "# Test the following sentences:\n",
        "\n",
        "\n",
        "## Reference:\n",
        "\n",
        "\"More than ever, we need to stand up for science. Science that is universal – shared by all humanity – and that is unifying,\" the president of the European Commission said on Monday in a speech delivered at La Sorbonne University in Paris.\n",
        "\n",
        "\n",
        "## Original (DE):\n",
        "\n",
        "\"Mehr denn je müssen wir für die Wissenschaft eintreten. Eine Wissenschaft, die universell ist - von der ganzen Menschheit geteilt - und die uns vereint\", sagte der Präsident der Europäischen Kommission am Montag in einer Rede an der Universität La Sorbonne in Paris.\n",
        "\n",
        "### hypothesis 1 (Google)\n",
        "\"More than ever, we must stand up for science. A science that is universal — shared by all humanity — and that unites us,\" said the President of the European Commission in a speech at La Sorbonne University in Paris on Monday.\n",
        "\n",
        "\n",
        "### hypotesis 2 (deepL)\n",
        "\n",
        "“More than ever, we must stand up for science. A science that is universal—shared by all of humanity—and that unites us,” said the President of the European Commission on Monday in a speech at La Sorbonne University in Paris.\n",
        "\n",
        "### hypothesis 3 (chatGPT)\n",
        "\n",
        "\"More than ever, we must stand up for science. A science that is universal – shared by all of humanity – and that unites us,\" said the President of the European Commission on Monday in a speech at the University of La Sorbonne in Paris.\n",
        "\n",
        "### hypothesis 4 (systran)\n",
        "\n",
        "\"More than ever, we need to stand up for science. A science that is universal - shared by all humanity - and that unites us\", said the President of the European Commission in a speech at the University of La Sorbonne in Paris on Monday.\n",
        "\n",
        "## Original (UK)\n",
        "\n",
        "\n",
        "«Сьогодні, як ніколи раніше, ми повинні відстоювати науку. Науку, яка є універсальною, спільною для всього людства і яка об’єднує», — сказала голова Європейської комісії у своїй промові в університеті Сорбонна в Парижі.\n",
        "\n",
        "### hypothesis 5 (Google (uk>en))\n",
        "\n",
        "\"Today, more than ever, we must stand up for science. Science that is universal, common to all humanity and that unites,\" said the European Commission President in her speech at the Sorbonne University in Paris.\n",
        "\n"
      ],
      "metadata": {
        "id": "HJtVQN3vY-wX"
      }
    },
    {
      "cell_type": "markdown",
      "source": [
        "# Evaluation of files and directories"
      ],
      "metadata": {
        "id": "MIUa7fiAS8On"
      }
    },
    {
      "cell_type": "markdown",
      "source": [
        "## Downloading zip files (from a URL on HeiBox)\n",
        "\n",
        "Text2: (cultural capital)\n",
        "\n",
        "text02mtDeepL2en.zip : https://heibox.uni-heidelberg.de/f/0e1e6d0e1a274157be7f/\n",
        "\n",
        "text02mtGoogle2en.zip : https://heibox.uni-heidelberg.de/f/ddec498c9ff44ffc8b14/\n",
        "\n",
        "text02ori.zip : https://heibox.uni-heidelberg.de/f/8ffeca89e2d04dc4baac/\n",
        "\n",
        "Text3: (interview)\n",
        "\n",
        "text03mtDeepL2en.zip : https://heibox.uni-heidelberg.de/f/51193f8a6e074330adaf/\n",
        "\n",
        "text03mtGoogle2en.zip : https://heibox.uni-heidelberg.de/f/c93ef08f70e7417fbbe8/\n",
        "\n",
        "text03ori.zip : https://heibox.uni-heidelberg.de/f/b997f0ca33b948a09ff2/\n",
        "\n"
      ],
      "metadata": {
        "id": "AT3r3oiFTRMX"
      }
    },
    {
      "cell_type": "code",
      "source": [
        "!wget https://heibox.uni-heidelberg.de/f/0e1e6d0e1a274157be7f/?dl=1\n",
        "!mv index.html?dl=1 text02mtDeepL2en.zip\n",
        "!unzip text02mtDeepL2en.zip\n",
        "!rm text02mtDeepL2en.zip\n",
        "\n",
        "!wget https://heibox.uni-heidelberg.de/f/ddec498c9ff44ffc8b14/?dl=1\n",
        "!mv index.html?dl=1 text02mtGoogle2en.zip\n",
        "!unzip text02mtGoogle2en.zip\n",
        "!rm text02mtGoogle2en.zip\n",
        "\n",
        "!wget https://heibox.uni-heidelberg.de/f/8ffeca89e2d04dc4baac/?dl=1\n",
        "!mv index.html?dl=1 text02ori.zip\n",
        "!unzip text02ori.zip\n",
        "!rm text02ori.zip\n",
        "\n",
        "\n",
        "\n",
        "\n",
        "\n"
      ],
      "metadata": {
        "id": "Bn18koOoUcGI"
      },
      "execution_count": null,
      "outputs": []
    },
    {
      "cell_type": "code",
      "source": [
        "!wget https://heibox.uni-heidelberg.de/f/51193f8a6e074330adaf/?dl=1\n",
        "!mv index.html?dl=1 text03mtDeepL2en.zip\n",
        "!unzip text03mtDeepL2en.zip\n",
        "!rm text03mtDeepL2en.zip\n",
        "\n",
        "!wget https://heibox.uni-heidelberg.de/f/c93ef08f70e7417fbbe8/?dl=1\n",
        "!mv index.html?dl=1 text03mtGoogle2en.zip\n",
        "!unzip text03mtGoogle2en.zip\n",
        "!rm text03mtGoogle2en.zip\n",
        "\n",
        "!wget https://heibox.uni-heidelberg.de/f/b997f0ca33b948a09ff2/?dl=1\n",
        "!mv index.html?dl=1 text03ori.zip\n",
        "!unzip text03ori.zip\n",
        "!rm text03ori.zip"
      ],
      "metadata": {
        "id": "Pvm1kb5AVY5g"
      },
      "execution_count": null,
      "outputs": []
    },
    {
      "cell_type": "markdown",
      "source": [
        "## Recursively crawling directories"
      ],
      "metadata": {
        "id": "PBd1eRpUVydl"
      }
    },
    {
      "cell_type": "code",
      "source": [
        "import os, re\n",
        "\n",
        "def get_files_in_directory(directory_path):\n",
        "    file_paths = []\n",
        "    for root, dirs, files in os.walk(directory_path):\n",
        "        for file in files:\n",
        "            file_path = os.path.join(root, file)\n",
        "            if re.match(r'.*\\.txt', file_path):\n",
        "                file_paths.append(file_path)\n",
        "    return file_paths\n",
        "\n",
        "\n",
        "def printBLEUscores(file_list, file_ref):\n",
        "    for file in sorted(file_list):\n",
        "        with open(file, 'r') as file:\n",
        "            file_content = file.read()\n",
        "            file_test = file_content.split()\n",
        "            score_ref_a = bleu.sentence_bleu([file_ref], file_test)\n",
        "            print(f'{file.name}\\t{score_ref_a}')\n",
        "            # print(file + '\\t' + str(score_ref_a) + '\\n')\n",
        "\n",
        "    return\n",
        "\n",
        "\n"
      ],
      "metadata": {
        "id": "4Oa-x1nVVx5S"
      },
      "execution_count": 10,
      "outputs": []
    },
    {
      "cell_type": "markdown",
      "source": [
        "### Text 2"
      ],
      "metadata": {
        "id": "-virzeLIYQer"
      }
    },
    {
      "cell_type": "code",
      "source": [
        "# reference file\n",
        "file_reference = '/content/text02ori/text02en.txt'\n",
        "\n",
        "with open(file_reference, 'r') as file:\n",
        "    file_content_ref = file.read()\n",
        "\n",
        "file_ref = file_content_ref.split()"
      ],
      "metadata": {
        "id": "kNzcsW0pWnGI"
      },
      "execution_count": 6,
      "outputs": []
    },
    {
      "cell_type": "code",
      "source": [
        "file_ref"
      ],
      "metadata": {
        "id": "Pz2xXuV7W4L1"
      },
      "execution_count": null,
      "outputs": []
    },
    {
      "cell_type": "code",
      "source": [
        "filesGoogle = get_files_in_directory('/content/text02mtGoogle2en')\n",
        "filesDeepL = get_files_in_directory('/content/text02mtDeepL2en')"
      ],
      "metadata": {
        "id": "rPy-RFusXCd3"
      },
      "execution_count": 8,
      "outputs": []
    },
    {
      "cell_type": "code",
      "source": [
        "printBLEUscores(filesGoogle, file_ref)"
      ],
      "metadata": {
        "id": "MiLlyhlJXMKV"
      },
      "execution_count": null,
      "outputs": []
    },
    {
      "cell_type": "code",
      "source": [
        "printBLEUscores(filesDeepL, file_ref)"
      ],
      "metadata": {
        "id": "LiIfGEiQXQaA"
      },
      "execution_count": null,
      "outputs": []
    },
    {
      "cell_type": "markdown",
      "source": [
        "### Text 3"
      ],
      "metadata": {
        "id": "WdCot5F3YN9a"
      }
    },
    {
      "cell_type": "code",
      "source": [
        "# reference file\n",
        "file_reference = '/content/text03ori/text03en.txt'\n",
        "\n",
        "with open(file_reference, 'r') as file:\n",
        "    file_content_ref = file.read()\n",
        "\n",
        "file_ref = file_content_ref.split()"
      ],
      "metadata": {
        "id": "kEOnuruBYSrP"
      },
      "execution_count": 13,
      "outputs": []
    },
    {
      "cell_type": "code",
      "source": [
        "filesGoogle = get_files_in_directory('/content/text03mtGoogle2en')\n",
        "filesDeepL = get_files_in_directory('/content/text03mtDeepL2en')"
      ],
      "metadata": {
        "id": "LBeb_9QmYYXW"
      },
      "execution_count": 14,
      "outputs": []
    },
    {
      "cell_type": "code",
      "source": [
        "printBLEUscores(filesGoogle, file_ref)"
      ],
      "metadata": {
        "id": "hWSGa59IYcv5"
      },
      "execution_count": null,
      "outputs": []
    },
    {
      "cell_type": "code",
      "source": [
        "printBLEUscores(filesDeepL, file_ref)"
      ],
      "metadata": {
        "id": "jxMGamQ0Ye9v"
      },
      "execution_count": null,
      "outputs": []
    }
  ]
}
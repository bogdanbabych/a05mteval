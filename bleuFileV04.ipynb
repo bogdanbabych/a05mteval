{
  "nbformat": 4,
  "nbformat_minor": 0,
  "metadata": {
    "colab": {
      "provenance": [],
      "include_colab_link": true
    },
    "kernelspec": {
      "name": "python3",
      "display_name": "Python 3"
    }
  },
  "cells": [
    {
      "cell_type": "markdown",
      "metadata": {
        "id": "view-in-github",
        "colab_type": "text"
      },
      "source": [
        "<a href=\"https://colab.research.google.com/github/bogdanbabych/a05mteval/blob/main/bleuFileV04.ipynb\" target=\"_parent\"><img src=\"https://colab.research.google.com/assets/colab-badge.svg\" alt=\"Open In Colab\"/></a>"
      ]
    },
    {
      "metadata": {
        "id": "cEvHsd4OnnO2"
      },
      "cell_type": "markdown",
      "source": [
        "## BLEU: BiLingual Evaluation Understudy\n",
        "\n",
        "*NLP evaluation metric used in Machine Translation tasks*\n",
        "\n",
        "*Suitable for measuring corpus level similarity*\n",
        "\n",
        "*$n$-gram comparison between words in candidate sentence and reference sentences*\n",
        "\n",
        "*Range: 0 (no match) to 1 (exact match)*"
      ]
    },
    {
      "metadata": {
        "id": "_arqa6LRnzCL"
      },
      "cell_type": "markdown",
      "source": [
        "### 1. Libraries\n",
        "*Install and import necessary libraries*\n"
      ]
    },
    {
      "metadata": {
        "id": "xFOnk5JdnuYQ",
        "outputId": "12a2caf2-e66f-4c41-d8d8-e802862bcad4",
        "colab": {
          "base_uri": "https://localhost:8080/"
        }
      },
      "cell_type": "code",
      "source": [
        "import nltk\n",
        "import nltk.translate.bleu_score as bleu\n",
        "\n",
        "import math\n",
        "import numpy\n",
        "import os\n",
        "\n",
        "try:\n",
        "  nltk.data.find('tokenizers/punkt')\n",
        "except LookupError:\n",
        "  nltk.download('punkt')"
      ],
      "execution_count": 1,
      "outputs": [
        {
          "output_type": "stream",
          "name": "stderr",
          "text": [
            "[nltk_data] Downloading package punkt to /root/nltk_data...\n",
            "[nltk_data]   Unzipping tokenizers/punkt.zip.\n"
          ]
        }
      ]
    },
    {
      "metadata": {
        "id": "SVkfsYSZq_zn"
      },
      "cell_type": "markdown",
      "source": [
        "### 2. Dataset\n",
        "*Array of words: candidate and reference sentences split into words*"
      ]
    },
    {
      "metadata": {
        "id": "Dr9v92X0r9VM"
      },
      "cell_type": "code",
      "source": [
        "hyp1 = str('The fat cat was comfortably sitting on a big mat').split()\n",
        "hyp2 = str('The fat cat was comfortably sitting on a big rug').split()\n",
        "hyp3 = str('The clever cat was comfortably sitting on a small pillow').split()\n",
        "hyp4 = str('The big dog was comfortably sitting on a small mat').split()\n",
        "\n",
        "\n",
        "ref_a = str('The fat cat was comfortably sitting on a big rug').split()\n",
        "ref_b = str('The plump cat lounged cozily on a large mat').split()\n",
        "ref_c = str('A chubby feline was resting peacefully atop a spacious rug').split()\n",
        "ref_d = str('The hefty cat relaxed contentedly on a broad mat').split()\n"
      ],
      "execution_count": 12,
      "outputs": []
    },
    {
      "metadata": {
        "id": "PQYjMHOgsyfT"
      },
      "cell_type": "markdown",
      "source": [
        "### 3. *Sentence* score calculation\n",
        "*Compares 1 hypothesis (candidate or source sentence) with 1+ reference sentences, returning the highest score when compared to multiple reference sentences.*"
      ]
    },
    {
      "metadata": {
        "id": "jXGCD-pi-jt5"
      },
      "cell_type": "code",
      "source": [
        "score_ref_a = bleu.sentence_bleu([ref_a], hyp1)\n",
        "print(\"Hyp1 and ref_a : {}\".format(score_ref_a))\n",
        "\n"
      ],
      "execution_count": null,
      "outputs": []
    },
    {
      "cell_type": "code",
      "source": [
        "score_ref_b = bleu.sentence_bleu([ref_a], hyp2)\n",
        "print(\"Hyp and ref_b : {}\".format(score_ref_b))\n"
      ],
      "metadata": {
        "id": "C9idCpFTXll2"
      },
      "execution_count": null,
      "outputs": []
    },
    {
      "cell_type": "code",
      "source": [
        "score_ref_b = bleu.sentence_bleu([ref_a], hyp3)\n",
        "print(\"Hyp and ref_b : {}\".format(score_ref_b))"
      ],
      "metadata": {
        "id": "JEMCSNlJYJMi"
      },
      "execution_count": null,
      "outputs": []
    },
    {
      "cell_type": "code",
      "source": [
        "score_ref_b = bleu.sentence_bleu([ref_a], hyp4)\n",
        "print(\"Hyp and ref_b : {}\".format(score_ref_b))"
      ],
      "metadata": {
        "id": "6G-sPNZZYMvF"
      },
      "execution_count": null,
      "outputs": []
    },
    {
      "cell_type": "code",
      "source": [
        "score_ref_ab = bleu.sentence_bleu([ref_a, ref_b, ref_c, ref_d], hyp4)\n",
        "print(\"Hyp vs multiple refs: {}\".format(score_ref_ab))"
      ],
      "metadata": {
        "id": "WDxOtbx_YSWt"
      },
      "execution_count": null,
      "outputs": []
    },
    {
      "cell_type": "code",
      "source": [
        "hyp1"
      ],
      "metadata": {
        "colab": {
          "base_uri": "https://localhost:8080/"
        },
        "id": "ofkOXAnr5Y4c",
        "outputId": "db21852f-ddeb-40ad-88db-6aa7cb53de74"
      },
      "execution_count": 17,
      "outputs": [
        {
          "output_type": "execute_result",
          "data": {
            "text/plain": [
              "['The', 'fat', 'cat', 'was', 'comfortably', 'sitting', 'on', 'a', 'big', 'mat']"
            ]
          },
          "metadata": {},
          "execution_count": 17
        }
      ]
    },
    {
      "cell_type": "markdown",
      "source": [
        "# Test the following sentences:\n",
        "\n",
        "\n",
        "## Reference:\n",
        "\n",
        "\"More than ever, we need to stand up for science. Science that is universal – shared by all humanity – and that is unifying,\" the president of the European Commission said on Monday in a speech delivered at La Sorbonne University in Paris.\n",
        "\n",
        "\n",
        "## Original (DE):\n",
        "\n",
        "\"Mehr denn je müssen wir für die Wissenschaft eintreten. Eine Wissenschaft, die universell ist - von der ganzen Menschheit geteilt - und die uns vereint\", sagte der Präsident der Europäischen Kommission am Montag in einer Rede an der Universität La Sorbonne in Paris.\n",
        "\n",
        "### hypothesis 1 (Google)\n",
        "\"More than ever, we must stand up for science. A science that is universal — shared by all humanity — and that unites us,\" said the President of the European Commission in a speech at La Sorbonne University in Paris on Monday.\n",
        "\n",
        "\n",
        "### hypotesis 2 (deepL)\n",
        "\n",
        "“More than ever, we must stand up for science. A science that is universal—shared by all of humanity—and that unites us,” said the President of the European Commission on Monday in a speech at La Sorbonne University in Paris.\n",
        "\n",
        "### hypothesis 3 (chatGPT)\n",
        "\n",
        "\"More than ever, we must stand up for science. A science that is universal – shared by all of humanity – and that unites us,\" said the President of the European Commission on Monday in a speech at the University of La Sorbonne in Paris.\n",
        "\n",
        "### hypothesis 4 (systran)\n",
        "\n",
        "\"More than ever, we need to stand up for science. A science that is universal - shared by all humanity - and that unites us\", said the President of the European Commission in a speech at the University of La Sorbonne in Paris on Monday.\n",
        "\n",
        "## Original (UK)\n",
        "\n",
        "\n",
        "«Сьогодні, як ніколи раніше, ми повинні відстоювати науку. Науку, яка є універсальною, спільною для всього людства і яка об’єднує», — сказала голова Європейської комісії у своїй промові в університеті Сорбонна в Парижі.\n",
        "\n",
        "### hypothesis 5 (Google (uk>en))\n",
        "\n",
        "\"Today, more than ever, we must stand up for science. Science that is universal, common to all humanity and that unites,\" said the European Commission President in her speech at the Sorbonne University in Paris.\n",
        "\n"
      ],
      "metadata": {
        "id": "HJtVQN3vY-wX"
      }
    }
  ]
}